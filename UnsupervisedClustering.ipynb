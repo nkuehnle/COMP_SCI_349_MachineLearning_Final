{
 "cells": [
  {
   "cell_type": "code",
   "execution_count": 1,
   "id": "756ff89b-8bde-4713-8c9a-38615d9f515b",
   "metadata": {},
   "outputs": [],
   "source": [
    "from sklearn.feature_extraction.text import CountVectorizer\n",
    "from sklearn.decomposition import PCA\n",
    "from sklearn.mixture import GaussianMixture\n",
    "from sklearn.cluster import KMeans\n",
    "from sklearn import metrics\n",
    "from scipy.spatial.distance import cdist\n",
    "import pandas as pd\n",
    "import numpy as np\n",
    "import matplotlib.pyplot as plt\n",
    "from matplotlib import style\n",
    "style.use('fivethirtyeight')\n",
    "import os\n",
    "from pathlib import Path\n",
    "\n",
    "cwd = Path(os.getcwd())\n",
    "train_data = cwd / 'Data' / 'TrainProcessed.csv'\n",
    "test_data = cwd / 'Data' / 'TestProcessed.csv'\n",
    "\n",
    "train_df = pd.read_csv(train_data,sep=',')\n",
    "test_df = pd.read_csv(test_data,sep=',')"
   ]
  },
  {
   "cell_type": "code",
   "execution_count": 2,
   "id": "77a4f2f3-bfbe-47c3-b34b-271987bb24fc",
   "metadata": {},
   "outputs": [],
   "source": [
    "test_df = test_df[test_df['src_url'].isin(train_df['src_url'].values) == False]\n",
    "test_df['Split'] = 'Test'\n",
    "train_df['Split'] = 'Train'"
   ]
  },
  {
   "cell_type": "code",
   "execution_count": 3,
   "id": "0ea7e92e-7cb2-4bf0-9396-38dbd4c0edaa",
   "metadata": {},
   "outputs": [],
   "source": [
    "df = pd.concat([test_df, train_df], axis=0)\n",
    "df.reset_index(inplace=True)"
   ]
  },
  {
   "cell_type": "markdown",
   "id": "f6656962-8ba3-498c-80ed-a56ed3d0197e",
   "metadata": {},
   "source": [
    "# Cleaning Data\n",
    "\n",
    "We'll do another pass-through to clean the text up a bit.\n",
    "\n",
    "Note that most of these regular-expressions were found by a mixture of manual inspection and trial-and-error using the code chunks contained below (i.e. word clouds, etc)"
   ]
  },
  {
   "cell_type": "code",
   "execution_count": 4,
   "id": "b066c256-f7ba-45b4-8503-961ee269acb5",
   "metadata": {},
   "outputs": [],
   "source": [
    "# A number of regex terms to remove known noisey elements (i.e. from markdown, etc)\n",
    "df['Text'].replace(to_replace=r'\\[[^\\n]*\\]',value=' ',regex=True, inplace=True)\n",
    "df['Text'].replace(to_replace=r'\\\\\\* [\\w]* \\*\\\\',value=' ',regex=True, inplace=True)\n",
    "df['Text'].replace(to_replace=r'\\/\\* [\\w]* \\*\\/',value=' ',regex=True, inplace=True)\n",
    "df['Text'].replace(to_replace=r'.[\\w]* ',value=' ',regex=True, inplace=True)\n",
    "df['Text'].replace(to_replace=r'\\\\ [\\w ]* ',value=' ',regex=True, inplace=True)\n",
    "df['Text'].replace(to_replace='\\_', value=' ',regex=True, inplace=True)\n",
    "df['Text'].replace(to_replace='font', value=' ', regex=True, inplace=True)\n",
    "df['Text'].replace(to_replace=r'pdf', value=' ', regex=True, inplace=True)\n",
    "df['Text'].replace(to_replace=r'PDF', value='', regex=True, inplace=True)\n",
    "df['Text'].replace(to_replace=r'Â', value=' ', regex=True, inplace=True)\n",
    "df['Text'].replace(to_replace=r'â', value=' ', regex=True, inplace=True)\n",
    "df['Text'].replace(to_replace=r'[^\\w]z[^\\w]', value=' ', regex=True ,inplace=True)\n",
    "df['Text'].replace(to_replace=r'[^\\w]Z[^\\w]', value=' ', regex=True, inplace=True)"
   ]
  },
  {
   "cell_type": "code",
   "execution_count": 5,
   "id": "79f144dd-fbb6-40dd-8743-63111625a6bb",
   "metadata": {},
   "outputs": [
    {
     "name": "stdout",
     "output_type": "stream",
     "text": [
      "No duplicates\n"
     ]
    }
   ],
   "source": [
    "num_duplicates = len(df)-len(df.drop_duplicates(subset=[\"src_url\"]))\n",
    "if num_duplicates == 0:\n",
    "    print(\"No duplicates\")\n",
    "else:\n",
    "    print(f\"{num_duplicates} duplicates found.\")"
   ]
  },
  {
   "cell_type": "code",
   "execution_count": 6,
   "id": "73a56f76-8e60-421d-a99d-6cd9432310af",
   "metadata": {},
   "outputs": [
    {
     "name": "stdout",
     "output_type": "stream",
     "text": [
      "8329\n",
      "204\n"
     ]
    }
   ],
   "source": [
    "df.dropna(subset=['Text'],inplace=True)\n",
    "corpus = df['Text']\n",
    "\n",
    "vectorizer = CountVectorizer(strip_accents='unicode',ngram_range=(1,2))\n",
    "\n",
    "X = vectorizer.fit_transform(corpus)\n",
    "dtm = pd.DataFrame(X.todense(), columns=vectorizer.get_feature_names())\n",
    "\n",
    "dtm = dtm[[i for i in dtm.columns if i.isalpha()]]\n",
    "dtm = dtm[dtm.columns[dtm.sum() >= 5]]\n",
    "print(dtm.shape[1])\n",
    "\n",
    "pca = PCA(n_components=0.99, svd_solver='full')\n",
    "princ_comps = pca.fit_transform(dtm)\n",
    "dtm = pd.DataFrame(data=princ_comps)\n",
    "print(dtm.shape[1])"
   ]
  },
  {
   "cell_type": "code",
   "execution_count": 7,
   "id": "77ee3f7d-b9d8-40c1-b49b-fd54e2e6f44a",
   "metadata": {},
   "outputs": [],
   "source": [
    "distortions = []\n",
    "kvals = range(1,25)\n",
    "for k in kvals:\n",
    "    model = KMeans(n_clusters=k).fit(dtm)\n",
    "    model.fit(dtm)\n",
    "    distortions.append(sum(np.min(cdist(dtm, model.cluster_centers_, 'euclidean'), axis=1)) / dtm.shape[0])"
   ]
  },
  {
   "cell_type": "code",
   "execution_count": 8,
   "id": "2c4fc4ee-0cbf-415d-8e5f-9a63dfbd3f6e",
   "metadata": {},
   "outputs": [
    {
     "data": {
      "image/png": "[encoded data removed]",
      "text/plain": [
       "<Figure size 432x288 with 1 Axes>"
      ]
     },
     "metadata": {},
     "output_type": "display_data"
    }
   ],
   "source": [
    "# Plot the elbow\n",
    "plt.plot(kvals, distortions)\n",
    "plt.xticks(np.arange(0, max(kvals), 1))\n",
    "plt.xlabel('k')\n",
    "plt.ylabel('Distortion')\n",
    "plt.title('Elbow Plot for value of k')\n",
    "plt.tight_layout()\n",
    "plt.savefig('kmeans_elbow.png')"
   ]
  },
  {
   "cell_type": "code",
   "execution_count": 9,
   "id": "d6ae4a49-f12a-492b-96b4-97f7784b3574",
   "metadata": {},
   "outputs": [],
   "source": [
    "dtm.reset_index(inplace=True)\n",
    "df.reset_index(inplace=True)"
   ]
  },
  {
   "cell_type": "code",
   "execution_count": 10,
   "id": "90f4c83c-369c-4b07-b0a6-bb053f5bca26",
   "metadata": {},
   "outputs": [
    {
     "name": "stdout",
     "output_type": "stream",
     "text": [
      "Cluster # 0\n",
      "Subclass      74\n",
      "Class         26\n",
      "Race           7\n",
      "Monster        7\n",
      "Official       7\n",
      "Item           7\n",
      "Spell          5\n",
      "Mechanic       3\n",
      "Compendium     2\n",
      "Feature        2\n",
      "Feat           2\n",
      "Name: flair, dtype: int64\n",
      "Cluster # 1\n",
      "Subclass      63\n",
      "Race          26\n",
      "Item          25\n",
      "Monster       16\n",
      "Spell         14\n",
      "Class         14\n",
      "Compendium     4\n",
      "Mechanic       4\n",
      "Feat           4\n",
      "Feature        1\n",
      "Name: flair, dtype: int64\n",
      "Cluster # 2\n",
      "Subclass      71\n",
      "Class         22\n",
      "Race          14\n",
      "Spell         12\n",
      "Monster       10\n",
      "Mechanic       7\n",
      "Item           5\n",
      "Feat           5\n",
      "Compendium     4\n",
      "Official       2\n",
      "Feature        2\n",
      "Other          2\n",
      "Background     1\n",
      "Name: flair, dtype: int64\n",
      "Cluster # 3\n",
      "Subclass      30\n",
      "Class          7\n",
      "Spell          5\n",
      "Monster        4\n",
      "Race           4\n",
      "Item           4\n",
      "Compendium     3\n",
      "Feat           3\n",
      "Background     1\n",
      "Mechanic       1\n",
      "Name: flair, dtype: int64\n",
      "Cluster # 4\n",
      "Compendium    1\n",
      "Name: flair, dtype: int64\n",
      "Cluster # 5\n",
      "Subclass      36\n",
      "Class         34\n",
      "Race          17\n",
      "Spell          6\n",
      "Item           5\n",
      "Monster        5\n",
      "Compendium     2\n",
      "Mechanic       2\n",
      "Feat           2\n",
      "World          1\n",
      "Resource       1\n",
      "Background     1\n",
      "Other          1\n",
      "Name: flair, dtype: int64\n",
      "Cluster # 6\n",
      "Subclass      67\n",
      "Class         20\n",
      "Race          12\n",
      "Monster       10\n",
      "Item           6\n",
      "Spell          5\n",
      "Compendium     3\n",
      "Other          2\n",
      "Official       2\n",
      "Background     1\n",
      "Name: flair, dtype: int64\n",
      "Cluster # 7\n",
      "Compendium    3\n",
      "Name: flair, dtype: int64\n",
      "Cluster # 8\n",
      "Subclass    1\n",
      "Name: flair, dtype: int64\n",
      "Cluster # 9\n",
      "Subclass      50\n",
      "Class         30\n",
      "Spell         20\n",
      "Race          15\n",
      "Item          15\n",
      "Monster       14\n",
      "Official       6\n",
      "Feat           6\n",
      "Compendium     5\n",
      "Mechanic       5\n",
      "Feature        2\n",
      "Name: flair, dtype: int64\n",
      "Cluster # 10\n",
      "Subclass      71\n",
      "Class         36\n",
      "Race          13\n",
      "Spell         11\n",
      "Mechanic      10\n",
      "Item           7\n",
      "Monster        7\n",
      "Compendium     4\n",
      "Prestige       1\n",
      "Resource       1\n",
      "Feat           1\n",
      "Other          1\n",
      "Name: flair, dtype: int64\n"
     ]
    }
   ],
   "source": [
    "gm = GaussianMixture(n_components=11, random_state=0).fit(dtm)\n",
    "predictions = gm.predict(dtm)\n",
    "\n",
    "cluster_labels = []\n",
    "for i in range (11):\n",
    "    cluster_inds = np.where(predictions == i)\n",
    "    cluster_df = df.loc[cluster_inds]\n",
    "    cluster_df = cluster_df.loc[cluster_df[\"sub\"] == \"UnearthedArcana\"]\n",
    "    print(f\"Cluster # {i}\")\n",
    "    print(cluster_df['flair'].value_counts())"
   ]
  },
  {
   "cell_type": "code",
   "execution_count": null,
   "id": "8f81f478-8a4e-4bc8-a991-fde4650f7307",
   "metadata": {},
   "outputs": [],
   "source": []
  }
 ],
 "metadata": {
  "kernelspec": {
   "display_name": "Python 3.8.6 64-bit ('base': conda)",
   "language": "python",
   "name": "python386jvsc74a57bd0c188aad412bb66faf0946217ea7ce4fa619210b6383626d13d6b7273181d5c52"
  },
  "language_info": {
   "codemirror_mode": {
    "name": "ipython",
    "version": 3
   },
   "file_extension": ".py",
   "mimetype": "text/x-python",
   "name": "python",
   "nbconvert_exporter": "python",
   "pygments_lexer": "ipython3",
   "version": "3.8.8"
  }
 },
 "nbformat": 4,
 "nbformat_minor": 5
}
